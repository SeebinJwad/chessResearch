{
 "cells": [
  {
   "cell_type": "code",
   "execution_count": 61,
   "id": "43c3b0d6-4c13-445a-a99f-05bab4f3087b",
   "metadata": {},
   "outputs": [
    {
     "name": "stdout",
     "output_type": "stream",
     "text": [
      "141192\n"
     ]
    }
   ],
   "source": [
    "# number of moves on 3x3 board with rook king bishop vs bishop king rook w one line empty in bw\n",
    "# counted using summation k=0 -> 4 of (4 choose k) * 9!/(3+k)!\n",
    "\n",
    "from math import comb, factorial, perm\n",
    "import numpy as np\n",
    "import random\n",
    "from itertools import permutations, combinations\n",
    "import pandas as pd\n",
    "# testing small case of 3x3\n",
    "total = 0\n",
    "for k in range(0, 5):\n",
    "    total += comb(4, k) * factorial(9)/factorial(3 + k)\n",
    "print(int(total))"
   ]
  },
  {
   "cell_type": "code",
   "execution_count": 62,
   "id": "279da446-40c2-4656-9d70-f47f21dcae57",
   "metadata": {},
   "outputs": [],
   "source": [
    "# given dimension (4 = 4 by 4 chess board with 8 pieces) find upper limit of variations of pieces on chess board\n",
    "def count_variations(d):\n",
    "    total_variations = 0\n",
    "    # from 0 to 2 times 4 = 8 pieces on the board, -2 to go only until theres two kings left, + 1 to be inclusive, -2+1=+1\n",
    "    for k in range(0, 2*d + 1):\n",
    "        # a = i.e. 3x3 with 4 pieces, looking for every combination that 2 pieces (besides 2 kings) can make = 6\n",
    "        # 3x3 is extremely simple and misses many key concepts of chess simplifying it ie blocking w piece\n",
    "        # b = i.e.continued, every board variation with any of those 4 pieces (every variation of 2 of 4 pieces missing + 2 kings)\n",
    "        # goes until 2d+1 which is when there will 2 kings left only\n",
    "        a = combinations = comb(2*d - 2, k)\n",
    "        b = factorial(d**2) / factorial(d**2 - 2*d + k)\n",
    "        total_variations += a * b\n",
    "    return int(total_variations)"
   ]
  },
  {
   "cell_type": "code",
   "execution_count": 63,
   "id": "ad7642c2-1da1-4489-b734-969580296a7d",
   "metadata": {},
   "outputs": [
    {
     "name": "stdout",
     "output_type": "stream",
     "text": [
      "2 : 8.40e+01\n",
      "84\n",
      "3 : 1.41e+05\n",
      "141192\n",
      "4 : 9.63e+08\n",
      "962509200\n",
      "5 : 1.92e+13\n",
      "19158533597400\n",
      "6 : 8.85e+17\n",
      "885252214400136704\n",
      "7 : 8.17e+22\n",
      "81677457586996427882496\n",
      "8 : 1.36e+28\n",
      "13552793470596301169593679872\n"
     ]
    }
   ],
   "source": [
    "for x in range(2, 9):\n",
    "    print(f\"{x} : {count_variations(x):.2e}\")\n",
    "    print(count_variations(x))"
   ]
  },
  {
   "cell_type": "code",
   "execution_count": 64,
   "id": "17d1a81b-5887-4458-ad66-4439d3ebc0aa",
   "metadata": {},
   "outputs": [],
   "source": [
    "# from more_itertools import distinct_permutations\n",
    "\n",
    "# generate every variation of 3x3 chess board\n",
    "# there is a guaranteed checkmate from white in a 3x3 variation (b -> b, r up 1 space (force), b orig pos, r orig pos or king left 1 space = lose, r cap b = lose)\n",
    "# purpose is to validate brute force alg and translate it to 4x4 5x5 and maybe even 6x6\n",
    "# bishop is 2, king is 1, rook is 3\n",
    "three_dim_variations = set(permutations([2,1,3,0,0,0,-3,-1,-2])) # distinct_permutations('213000456'))"
   ]
  },
  {
   "cell_type": "code",
   "execution_count": 65,
   "id": "4b820cda-de1d-4ab8-9522-68951b7945e0",
   "metadata": {},
   "outputs": [
    {
     "name": "stdout",
     "output_type": "stream",
     "text": [
      "60480\n",
      "60480\n"
     ]
    }
   ],
   "source": [
    "# validating by checking length == count of expected permutations\n",
    "print(len(three_dim_variations))\n",
    "print(int(factorial(9) / factorial(9 - 6)))"
   ]
  },
  {
   "cell_type": "code",
   "execution_count": 66,
   "id": "b5e178e2-172f-41d7-b6ce-eab1b638302d",
   "metadata": {},
   "outputs": [
    {
     "name": "stdout",
     "output_type": "stream",
     "text": [
      "[11 11 10 ...  5  5  5]\n",
      "[3 3 3 ... 1 1 1]\n",
      "[3 3 2 ... 3 3 3]\n"
     ]
    }
   ],
   "source": [
    "# series of filters to remove illegal variations\n",
    "# 1) kings can not be together\n",
    "\n",
    "\n",
    "allvars = np.array([np.array(x) for x in three_dim_variations])\n",
    "\n",
    "# pad sample with 1 row of zeros top and bottom\n",
    "# to check for kings being around eachother check the row above and below, pad avoids out of bounds err\n",
    "allvars = np.pad(allvars, [(0,0),(3,3)])\n",
    "\n",
    "# find row and column indexes of any piece in every variation in allvars\n",
    "# white king, piece = 1\n",
    "def row_col_idxs(piece, allvars=allvars):\n",
    "    idx = np.where(allvars == piece)[1]\n",
    "    # divide every index by 3 to determine row of white king\n",
    "    rows = idx // 3\n",
    "    # if its 4 7 or 10 its middle col\n",
    "    mid_col = (idx == 4).astype(bool) | (idx == 7).astype(bool) | (idx == 10).astype(bool)\n",
    "    # if 3 6 or 9 its left col\n",
    "    left_col = idx % 3 == 0\n",
    "    # if not in mid or left col must be in right col\n",
    "    right_col = np.invert(mid_col | left_col)\n",
    "    cols = left_col.astype(int) + (mid_col.astype(int) * 2) + (right_col.astype(int) * 3)\n",
    "    return rows, cols\n",
    "\n",
    "# validated - 11 is row 3 and col 3, 5 is row 1 and col 3 etc.\n",
    "print(np.where(allvars == 1)[1])\n",
    "print(row_col_idxs(1)[0])\n",
    "print(row_col_idxs(1)[1])"
   ]
  },
  {
   "cell_type": "code",
   "execution_count": 67,
   "id": "c8c175f2-5211-4105-8305-6796bfb8e0d8",
   "metadata": {},
   "outputs": [
    {
     "name": "stdout",
     "output_type": "stream",
     "text": [
      "[3 3 3 ... 1 1 1] [3 3 2 ... 3 3 3]\n",
      "[1 2 2 ... 3 3 1] [2 3 3 ... 1 2 1]\n",
      "[ True False False ...  True  True  True]\n",
      "0.4444444444444444\n"
     ]
    }
   ],
   "source": [
    "# find white black king row col indexes\n",
    "# if they have neighboring rows or columns it is illegal variation, allvars => subvars\n",
    "wk_rows, wk_cols = row_col_idxs(1)\n",
    "bk_rows, bk_cols = row_col_idxs(-1)\n",
    "\n",
    "neighbor_rows = abs(wk_rows - bk_rows) < 2\n",
    "neighbor_cols = abs(wk_cols - bk_cols) < 2\n",
    "\n",
    "# validated - ie (3, 3) is not neighboring (1, 2)\n",
    "print(wk_rows, wk_cols)\n",
    "print(bk_rows, bk_cols)\n",
    "neighbor_idxs = neighbor_rows & neighbor_cols\n",
    "non_neightbors = np.invert(neighbor_idxs)\n",
    "print(non_neightbors)\n",
    "\n",
    "subvars = allvars[non_neightbors]\n",
    "# 55% variations were illegal from neighboring kings (unsurprisingly bc its 3x3)\n",
    "# neighboring squares for each square the king is in ( [3 5 3] [5 8 5] [3 5 3] ) / 9 / 7 ~ 63%\n",
    "print(len(subvars) / len(allvars))"
   ]
  },
  {
   "cell_type": "code",
   "execution_count": 68,
   "id": "89451387-9f98-475a-aab5-17db87a8277f",
   "metadata": {},
   "outputs": [
    {
     "name": "stdout",
     "output_type": "stream",
     "text": [
      "6880\n"
     ]
    }
   ],
   "source": [
    "# find all check and checkmate positions, where more illegal moves can be found\n",
    "# ultimately going to use algorithm that checks for every sequence to see if any sequence of legal moves leads to that variation, if not its illegal\n",
    "# that is super time complex alg though so i need it on ideally like <5000 variations only\n",
    "# checkmate subset of check so find all checks first\n",
    "# low enough count i can use for loops and be sloppy wo downsides\n",
    "# looking for all checks white does on black but multiply matrix by -1 to get all black checks on white\n",
    "\n",
    "# re init subvars so reruns of this cell wont cause error\n",
    "subvars = allvars[non_neightbors]\n",
    "# sort every variation with white bishop in (4 corners and middle) as 5 diff 2d arrays\n",
    "# remove padding\n",
    "subvars = subvars[:,3:-3]\n",
    "\n",
    "# bool array of each obj in arr being in list of vals, arr must be np.ndarray\n",
    "def is_val(arr, vals):\n",
    "    comb = np.any([(arr == val).astype(bool) for val in vals], axis=0)\n",
    "    return comb\n",
    "\n",
    "# ie. filter out all white bishops in 1 (top left)\n",
    "def filter_piece_by_pos(variations, piece, positions):\n",
    "    # find out where the piece is in every variation\n",
    "    idxs = np.where(variations == piece)[1]\n",
    "    legal_rows = is_val(idxs, positions)\n",
    "    return variations[legal_rows]\n",
    "\n",
    "subvars = filter_piece_by_pos(subvars, 2, [0, 2, 4, 6, 8])\n",
    "subvars = filter_piece_by_pos(subvars, -2, [0, 2, 4, 6, 8])\n",
    "print(len(subvars))\n",
    "# print(random.choice(subvars))"
   ]
  },
  {
   "cell_type": "code",
   "execution_count": 69,
   "id": "f83d83b8-e074-4349-91cd-9314b2dc546e",
   "metadata": {},
   "outputs": [
    {
     "name": "stdout",
     "output_type": "stream",
     "text": [
      "[4, 8]\n",
      "[4, 6]\n",
      "[2, 6, 0, 8]\n",
      "[2, 4]\n",
      "[0, 4]\n",
      "[[4, 8], [0], [4, 6], [0], [2, 6, 0, 8], [0], [2, 4], [0], [0, 4]]\n"
     ]
    }
   ],
   "source": [
    "# find every check variation\n",
    "# get a list of every attack position from every variation\n",
    "# generate a list of every attack position bool arr for each piece (bishop and rook)\n",
    "\n",
    "# bishop can be in 5 places, the rest of the indexes have 0 attack positions because they dont exist\n",
    "# for each square bishop can legally be in ( [0, 2, 4, 6, 7] ), get both diagonals\n",
    "legal_b_idxs = [0, 2, 4, 6, 8]\n",
    "# indexes the bishop attacks based on the bishops position in ascending order (first value is bishop at top left index)\n",
    "# TODO: make this cell into a get_diagonals func, given index of bishop (or queen) get diagonals\n",
    "b_atk_idxs = []\n",
    "for x in legal_b_idxs:\n",
    "    empty_board = np.arange(9).reshape(3, 3)\n",
    "    empty_board[x // 3, x % 3] = -1\n",
    "    row_idx = x // 3\n",
    "    column_idx = x - (3 * row_idx)\n",
    "    ldiag = list(np.fliplr(empty_board).diagonal(offset=(2-column_idx-row_idx)))\n",
    "    rdiag = list(empty_board.diagonal(offset=(column_idx - row_idx)))\n",
    "    ldiag.remove(-1)\n",
    "    rdiag.remove(-1)\n",
    "    b_atk_idxs.append(ldiag + rdiag)\n",
    "    # every other square (except after 8) is illegal for bishop so has 0 attack indexes\n",
    "    b_atk_idxs.append([0])\n",
    "    print(ldiag + rdiag)\n",
    "b_atk_idxs = b_atk_idxs[:-1]\n",
    "print(b_atk_idxs)"
   ]
  },
  {
   "cell_type": "code",
   "execution_count": 70,
   "id": "1c6f7669-dddd-455c-9da3-e9da591ad271",
   "metadata": {},
   "outputs": [
    {
     "name": "stdout",
     "output_type": "stream",
     "text": [
      "[[1, 2, 3, 6], [0, 2, 4, 7], [0, 1, 5, 8], [4, 5, 0, 6], [3, 5, 1, 7], [3, 4, 2, 8], [7, 8, 0, 3], [6, 8, 1, 4], [6, 7, 2, 5]]\n"
     ]
    }
   ],
   "source": [
    "# get every attack position for a rook\n",
    "r_atk_idxs = []\n",
    "for x in np.arange(9):\n",
    "    empty_board = np.arange(9).reshape(3, 3)\n",
    "    row_idx = x // 3\n",
    "    col_idx = x % 3\n",
    "    # make the rooks index -1, since its not in the attack positions\n",
    "    empty_board[row_idx, col_idx] = -1\n",
    "    row = list(empty_board[row_idx])\n",
    "    col = list(empty_board[:, x - (3 * row_idx)])\n",
    "    row.remove(-1)\n",
    "    col.remove(-1)\n",
    "    r_atk_idxs.append(row + col)\n",
    "print(r_atk_idxs)"
   ]
  },
  {
   "cell_type": "code",
   "execution_count": 71,
   "id": "2972f32c-d802-47cb-aeb5-0a71fc6be480",
   "metadata": {},
   "outputs": [
    {
     "name": "stdout",
     "output_type": "stream",
     "text": [
      "[1, 2, 3, 4, 5, 6, 7, 8, 20, 21, 23, 24, 25, 26, 27, 28, 40, 41, 42, 43, 45, 46, 47, 48, 60, 61, 62, 63, 64, 65, 67, 68, 80, 81, 82, 83, 84, 85, 86, 87]\n",
      "[[4, 8, 0, 2, 4, 7], [4, 8, 0, 1, 5, 8], [4, 8, 4, 5, 0, 6], [4, 8, 3, 5, 1, 7], [4, 8, 3, 4, 2, 8], [4, 8, 7, 8, 0, 3], [4, 8, 6, 8, 1, 4], [4, 8, 6, 7, 2, 5], [4, 6, 1, 2, 3, 6], [4, 6, 0, 2, 4, 7], [4, 6, 4, 5, 0, 6], [4, 6, 3, 5, 1, 7], [4, 6, 3, 4, 2, 8], [4, 6, 7, 8, 0, 3], [4, 6, 6, 8, 1, 4], [4, 6, 6, 7, 2, 5], [2, 6, 0, 8, 1, 2, 3, 6], [2, 6, 0, 8, 0, 2, 4, 7], [2, 6, 0, 8, 0, 1, 5, 8], [2, 6, 0, 8, 4, 5, 0, 6], [2, 6, 0, 8, 3, 4, 2, 8], [2, 6, 0, 8, 7, 8, 0, 3], [2, 6, 0, 8, 6, 8, 1, 4], [2, 6, 0, 8, 6, 7, 2, 5], [2, 4, 1, 2, 3, 6], [2, 4, 0, 2, 4, 7], [2, 4, 0, 1, 5, 8], [2, 4, 4, 5, 0, 6], [2, 4, 3, 5, 1, 7], [2, 4, 3, 4, 2, 8], [2, 4, 6, 8, 1, 4], [2, 4, 6, 7, 2, 5], [0, 4, 1, 2, 3, 6], [0, 4, 0, 2, 4, 7], [0, 4, 0, 1, 5, 8], [0, 4, 4, 5, 0, 6], [0, 4, 3, 5, 1, 7], [0, 4, 3, 4, 2, 8], [0, 4, 7, 8, 0, 3], [0, 4, 6, 8, 1, 4]]\n"
     ]
    }
   ],
   "source": [
    "total_pos_idxs = [int(str(x)+str(y)) for x in [0, 2, 4, 6, 8] for y in range(9) if x != y]\n",
    "total_atk_pos_idxs = []\n",
    "for x in [0, 2, 4, 6, 8]:\n",
    "    for y in list(range(9)[:x]) + list(range(9)[x+1:]):\n",
    "        total_atk_pos_idxs.append(list(b_atk_idxs[x] + r_atk_idxs[y]))\n",
    "# total_atk_pos_idxs_dict = dict(zip(total_pos_idxs, total_atk_pos_idxs))\n",
    "# print(total_pos_idxs)\n",
    "# print(len(total_pos_idxs))\n",
    "print(total_pos_idxs)\n",
    "print(total_atk_pos_idxs)"
   ]
  },
  {
   "cell_type": "code",
   "execution_count": 72,
   "id": "f119ccc0-872e-4717-a85b-d7e9f038ee39",
   "metadata": {},
   "outputs": [
    {
     "name": "stdout",
     "output_type": "stream",
     "text": [
      "[23 20 67 ... 80 24 42]\n",
      "[[ 0 -1  2 ...  0  1 -2]\n",
      " [ 3 -1  2 ...  0 -3  1]\n",
      " [-1  0 -2 ...  2  3  1]\n",
      " ...\n",
      " [ 3 -3  0 ...  0  0  2]\n",
      " [-1  0  2 ... -2  1  0]\n",
      " [-3  3 -1 ... -2  0  0]]\n",
      "[1866 3515  974 ... 1669 4662 2976]\n"
     ]
    },
    {
     "ename": "TypeError",
     "evalue": "only integer scalar arrays can be converted to a scalar index",
     "output_type": "error",
     "traceback": [
      "\u001b[0;31m---------------------------------------------------------------------------\u001b[0m",
      "\u001b[0;31mTypeError\u001b[0m                                 Traceback (most recent call last)",
      "Cell \u001b[0;32mIn [72], line 11\u001b[0m\n\u001b[1;32m      9\u001b[0m subvars_sort \u001b[38;5;241m=\u001b[39m atk_idxs\u001b[38;5;241m.\u001b[39margsort()\n\u001b[1;32m     10\u001b[0m \u001b[38;5;28mprint\u001b[39m(subvars_sort)\n\u001b[0;32m---> 11\u001b[0m subvars_atk_idxs \u001b[38;5;241m=\u001b[39m \u001b[43msubvars_atk_idxs\u001b[49m\u001b[43m[\u001b[49m\u001b[43msubvars_sort\u001b[49m\u001b[43m]\u001b[49m\n\u001b[1;32m     12\u001b[0m \u001b[38;5;28mprint\u001b[39m(subvars_atk_idxs[\u001b[38;5;241m0\u001b[39m])\n\u001b[1;32m     13\u001b[0m \u001b[38;5;28mprint\u001b[39m(subvars_atk_idxs[\u001b[38;5;241m1\u001b[39m])\n",
      "\u001b[0;31mTypeError\u001b[0m: only integer scalar arrays can be converted to a scalar index"
     ]
    }
   ],
   "source": [
    "b_idxs = row_col_idxs(2, allvars=subvars)\n",
    "b_idxs = b_idxs[0] * 3 + (b_idxs[1]-1)\n",
    "r_idxs = row_col_idxs(3, allvars=subvars)\n",
    "r_idxs = r_idxs[0] * 3 + (r_idxs[1]-1)\n",
    "atk_idxs = b_idxs*10 + r_idxs\n",
    "subvars_atk_idxs = [atk_idxs, subvars]\n",
    "print(subvars_atk_idxs[0])\n",
    "print(subvars_atk_idxs[1])\n",
    "subvars_sort = atk_idxs.argsort()\n",
    "print(subvars_sort)\n",
    "subvars_atk_idxs = subvars_atk_idxs[subvars_sort]\n",
    "print(subvars_atk_idxs[0])\n",
    "print(subvars_atk_idxs[1])\n"
   ]
  },
  {
   "cell_type": "code",
   "execution_count": 73,
   "id": "7c89c889-58d5-4a08-9a4b-f2b20fb911b7",
   "metadata": {},
   "outputs": [
    {
     "name": "stdout",
     "output_type": "stream",
     "text": [
      "57\n",
      "58\n",
      "59\n",
      "60\n",
      "61\n",
      "62\n",
      "63\n",
      "64\n",
      "1.78e+14\n"
     ]
    }
   ],
   "source": [
    "y = 1\n",
    "for x in range(57, 65):\n",
    "    y *= x\n",
    "    print(x)\n",
    "print(f'{y:.2e}')"
   ]
  },
  {
   "cell_type": "code",
   "execution_count": 74,
   "id": "ca6caa0b-2975-43d9-b9cf-0e406ee36a48",
   "metadata": {},
   "outputs": [
    {
     "name": "stdout",
     "output_type": "stream",
     "text": [
      "done\n",
      "CPU times: user 46.8 s, sys: 0 ns, total: 46.8 s\n",
      "Wall time: 46.8 s\n"
     ]
    }
   ],
   "source": [
    "%%time\n",
    "y = 0\n",
    "for x in range(10**9):\n",
    "    y += 1\n",
    "print(\"done\")"
   ]
  },
  {
   "cell_type": "code",
   "execution_count": 75,
   "id": "ca425048-d975-4f55-98b3-27d7505e2879",
   "metadata": {},
   "outputs": [
    {
     "name": "stdout",
     "output_type": "stream",
     "text": [
      "2664843926789311840215752571496156659844120576\n"
     ]
    }
   ],
   "source": [
    "print(int(factorial(64) / (factorial(34) * factorial(8) * 4)))"
   ]
  },
  {
   "cell_type": "code",
   "execution_count": 76,
   "id": "72217087-43d8-463a-b7f8-f163d4ffbf42",
   "metadata": {},
   "outputs": [
    {
     "data": {
      "text/plain": [
       "126886932185884164103433389335161480802865516174545192198801894375214704230400000000000000"
      ]
     },
     "execution_count": 76,
     "metadata": {},
     "output_type": "execute_result"
    }
   ],
   "source": [
    "factorial(64)"
   ]
  },
  {
   "cell_type": "code",
   "execution_count": 77,
   "id": "2e82d8e1-e078-4660-b250-f65a667f434c",
   "metadata": {},
   "outputs": [
    {
     "name": "stdout",
     "output_type": "stream",
     "text": [
      "126.0\n",
      "35.0\n",
      "10.0\n",
      "20.0\n",
      "70.0\n"
     ]
    }
   ],
   "source": [
    "print(factorial(9)/(factorial(4)*factorial(5)))\n",
    "print(factorial(7)/(factorial(3)*factorial(4)))\n",
    "print(factorial(5)/(factorial(2)*factorial(3)))\n",
    "print(factorial(6)/(factorial(3)*factorial(3)))\n",
    "print(factorial(8)/(factorial(4)*factorial(4)))"
   ]
  },
  {
   "cell_type": "code",
   "execution_count": 78,
   "id": "4462717a-1a04-408b-927b-4b852857c18a",
   "metadata": {},
   "outputs": [
    {
     "data": {
      "text/plain": [
       "362880"
      ]
     },
     "execution_count": 78,
     "metadata": {},
     "output_type": "execute_result"
    }
   ],
   "source": [
    "factorial(9)"
   ]
  },
  {
   "cell_type": "code",
   "execution_count": 79,
   "id": "9b3bf10c-f546-452b-89c3-d33ed9eba42a",
   "metadata": {},
   "outputs": [
    {
     "data": {
      "text/plain": [
       "1.3150413168421682e+40"
      ]
     },
     "execution_count": 79,
     "metadata": {},
     "output_type": "execute_result"
    }
   ],
   "source": [
    "((5**8)*(2**8))**2 * (factorial(40) / factorial(24))"
   ]
  },
  {
   "cell_type": "code",
   "execution_count": 80,
   "id": "ca535788-322c-4289-8fd4-cb9cbb722466",
   "metadata": {},
   "outputs": [],
   "source": [
    "# if a piece is not defending piece attacking king, attackign king, potentially blocking king, pointentially attacking king attacker, its a dead piece"
   ]
  },
  {
   "cell_type": "code",
   "execution_count": 81,
   "id": "6b7f7393-eb1c-44a9-aa6b-4a74d9ded8ff",
   "metadata": {},
   "outputs": [],
   "source": [
    "# find every position the king can be, followed by every other piece\n",
    "# find every checkmate position and go backwards from there\n",
    "# find every possible checkmate in 8x8 board is a big deal\n",
    "factorial(9) / factorial(7)\n",
    "# every position 2 kings can be in\n",
    "king_vars = set(permutations([1,1] + [0]*7))\n"
   ]
  },
  {
   "cell_type": "code",
   "execution_count": null,
   "id": "a04c018e-7496-4873-bd9f-af45fa28e160",
   "metadata": {},
   "outputs": [],
   "source": []
  },
  {
   "cell_type": "code",
   "execution_count": 82,
   "id": "ac1efc05-7bb5-45ba-a53e-886eddc4158c",
   "metadata": {},
   "outputs": [
    {
     "name": "stdout",
     "output_type": "stream",
     "text": [
      "81\n"
     ]
    }
   ],
   "source": [
    "mults = []\n",
    "for a in range(1,10):\n",
    "    for b in range(1, 10):\n",
    "        mults.append(a * 10 + b - 11)\n",
    "print(len(mults))"
   ]
  },
  {
   "cell_type": "code",
   "execution_count": 83,
   "id": "3d76e225-4f72-41b8-9c4c-729bda75ced3",
   "metadata": {},
   "outputs": [
    {
     "name": "stdout",
     "output_type": "stream",
     "text": [
      "[0, 1, 2, 3, 4, 5, 6, 7, 8, 10, 11, 12, 13, 14, 15, 16, 17, 18, 20, 21, 22, 23, 24, 25, 26, 27, 28, 30, 31, 32, 33, 34, 35, 36, 37, 38, 40, 41, 42, 43, 44, 45, 46, 47, 48, 50, 51, 52, 53, 54, 55, 56, 57, 58, 60, 61, 62, 63, 64, 65, 66, 67, 68, 70, 71, 72, 73, 74, 75, 76, 77, 78, 80, 81, 82, 83, 84, 85, 86, 87, 88]\n",
      "81\n"
     ]
    }
   ],
   "source": [
    "print(mults)\n",
    "print(len(mults))"
   ]
  },
  {
   "cell_type": "code",
   "execution_count": 84,
   "id": "6cabf123-6b61-4aaf-b988-1367130e65eb",
   "metadata": {},
   "outputs": [
    {
     "data": {
      "text/plain": [
       "998001"
      ]
     },
     "execution_count": 84,
     "metadata": {},
     "output_type": "execute_result"
    }
   ],
   "source": [
    "999*999"
   ]
  },
  {
   "cell_type": "code",
   "execution_count": 85,
   "id": "2ec48047-df4e-4d52-a82d-f2fbbbb07306",
   "metadata": {},
   "outputs": [
    {
     "name": "stdout",
     "output_type": "stream",
     "text": [
      "[0 0 0 0 0 1 1 1 2 2 2 2 2 3 3 3 5 5 5 6 6 6 6 6 7 7 7 8 8 8 8 8]\n",
      "[[ 1  0 -1  0  0  0  0  0  0]\n",
      " [ 1  0  0  0  0 -1  0  0  0]\n",
      " [ 1  0  0  0  0  0 -1  0  0]\n",
      " [ 1  0  0  0  0  0  0 -1  0]\n",
      " [ 1  0  0  0  0  0  0  0 -1]\n",
      " [ 0  1  0  0  0  0 -1  0  0]\n",
      " [ 0  1  0  0  0  0  0 -1  0]\n",
      " [ 0  1  0  0  0  0  0  0 -1]\n",
      " [-1  0  1  0  0  0  0  0  0]\n",
      " [ 0  0  1 -1  0  0  0  0  0]\n",
      " [ 0  0  1  0  0  0 -1  0  0]\n",
      " [ 0  0  1  0  0  0  0 -1  0]\n",
      " [ 0  0  1  0  0  0  0  0 -1]\n",
      " [ 0  0 -1  1  0  0  0  0  0]\n",
      " [ 0  0  0  1  0 -1  0  0  0]\n",
      " [ 0  0  0  1  0  0  0  0 -1]\n",
      " [-1  0  0  0  0  1  0  0  0]\n",
      " [ 0  0  0 -1  0  1  0  0  0]\n",
      " [ 0  0  0  0  0  1 -1  0  0]\n",
      " [-1  0  0  0  0  0  1  0  0]\n",
      " [ 0 -1  0  0  0  0  1  0  0]\n",
      " [ 0  0 -1  0  0  0  1  0  0]\n",
      " [ 0  0  0  0  0 -1  1  0  0]\n",
      " [ 0  0  0  0  0  0  1  0 -1]\n",
      " [-1  0  0  0  0  0  0  1  0]\n",
      " [ 0 -1  0  0  0  0  0  1  0]\n",
      " [ 0  0 -1  0  0  0  0  1  0]\n",
      " [-1  0  0  0  0  0  0  0  1]\n",
      " [ 0 -1  0  0  0  0  0  0  1]\n",
      " [ 0  0 -1  0  0  0  0  0  1]\n",
      " [ 0  0  0 -1  0  0  0  0  1]\n",
      " [ 0  0  0  0  0  0 -1  0  1]]\n",
      "[1 1 1 1 1 2 2 2 3 3 3 3 3 4 4 4 6 6 6 7 7 7 7 7 8 8 8 9 9 9 9 9]\n",
      "[3 6 7 8 9 7 8 9 1 4 7 8 9 3 6 9 1 4 7 1 2 3 6 9 1 2 3 1 2 3 4 7]\n",
      "32\n",
      "[[ 1  0 -1  0  0  0  0  0  0]\n",
      " [ 1  0  0  0  0 -1  0  0  0]\n",
      " [ 1  0  0  0  0  0 -1  0  0]\n",
      " [ 1  0  0  0  0  0  0 -1  0]\n",
      " [ 1  0  0  0  0  0  0  0 -1]\n",
      " [ 0  1  0  0  0  0 -1  0  0]\n",
      " [ 0  1  0  0  0  0  0 -1  0]\n",
      " [ 0  1  0  0  0  0  0  0 -1]\n",
      " [-1  0  1  0  0  0  0  0  0]\n",
      " [ 0  0  1 -1  0  0  0  0  0]\n",
      " [ 0  0  1  0  0  0 -1  0  0]\n",
      " [ 0  0  1  0  0  0  0 -1  0]\n",
      " [ 0  0  1  0  0  0  0  0 -1]\n",
      " [ 0  0 -1  1  0  0  0  0  0]\n",
      " [ 0  0  0  1  0 -1  0  0  0]\n",
      " [ 0  0  0  1  0  0  0  0 -1]\n",
      " [-1  0  0  0  0  1  0  0  0]\n",
      " [ 0  0  0 -1  0  1  0  0  0]\n",
      " [ 0  0  0  0  0  1 -1  0  0]\n",
      " [-1  0  0  0  0  0  1  0  0]\n",
      " [ 0 -1  0  0  0  0  1  0  0]\n",
      " [ 0  0 -1  0  0  0  1  0  0]\n",
      " [ 0  0  0  0  0 -1  1  0  0]\n",
      " [ 0  0  0  0  0  0  1  0 -1]\n",
      " [-1  0  0  0  0  0  0  1  0]\n",
      " [ 0 -1  0  0  0  0  0  1  0]\n",
      " [ 0  0 -1  0  0  0  0  1  0]\n",
      " [-1  0  0  0  0  0  0  0  1]\n",
      " [ 0 -1  0  0  0  0  0  0  1]\n",
      " [ 0  0 -1  0  0  0  0  0  1]\n",
      " [ 0  0  0 -1  0  0  0  0  1]\n",
      " [ 0  0  0  0  0  0 -1  0  1]]\n",
      "32\n",
      "[array([0, 1]), array([0, 1]), array([0, 1]), array([0, 1]), array([0, 1]), array([0, 2]), array([0, 2]), array([0, 2]), array([0, 3]), array([0, 3]), array([0, 3]), array([0, 3]), array([0, 3]), array([1, 1]), array([1, 1]), array([1, 1]), array([1, 3]), array([1, 3]), array([1, 3]), array([2, 1]), array([2, 1]), array([2, 1]), array([2, 1]), array([2, 1]), array([2, 2]), array([2, 2]), array([2, 2]), array([2, 3]), array([2, 3]), array([2, 3]), array([2, 3]), array([2, 3])]\n",
      "[array([0, 3]), array([1, 3]), array([2, 1]), array([2, 2]), array([2, 3]), array([2, 1]), array([2, 2]), array([2, 3]), array([0, 1]), array([1, 1]), array([2, 1]), array([2, 2]), array([2, 3]), array([0, 3]), array([1, 3]), array([2, 3]), array([0, 1]), array([1, 1]), array([2, 1]), array([0, 1]), array([0, 2]), array([0, 3]), array([1, 3]), array([2, 3]), array([0, 1]), array([0, 2]), array([0, 3]), array([0, 1]), array([0, 2]), array([0, 3]), array([1, 1]), array([2, 1])]\n",
      "32\n"
     ]
    }
   ],
   "source": [
    "king_vars = np.array(list(set(permutations([1,1] + [0]*7))))\n",
    "# print(king_vars)\n",
    "# df = pd.DataFrame(king_vars)\n",
    "# print(np.multiply(king_vars, np.arange(1,10)))\n",
    "i = []\n",
    "for a in range(1,10):\n",
    "    for b in range(1,10):\n",
    "        i.append([a, b])\n",
    "i = np.array(i)\n",
    "bool_mask = abs(i[:,0] - i[:,1]) > 0\n",
    "i = i[bool_mask]\n",
    "row1 = np.array((i[:,0]-1)//3)\n",
    "col1 = np.array(i[:,0]-(3*row1))\n",
    "# print(row1)\n",
    "# print(col1)\n",
    "\n",
    "row2 = np.array((i[:,1]-1)//3)\n",
    "col2 = np.array(i[:,1]-(3*row2))\n",
    "# print(row2)\n",
    "# print(col2)\n",
    "subrow = np.abs(np.subtract(row1, row2))\n",
    "subcol = np.abs(np.subtract(col1, col2))\n",
    "mask = np.maximum(subrow, subcol) > 1\n",
    "a = np.column_stack((row1[mask],col1[mask]))\n",
    "a_compressed = a[:,0]*3 + a[:,1]\n",
    "b = np.column_stack((row2[mask], col2[mask]))\n",
    "b_compressed = b[:,0]*3 + b[:,1]\n",
    "empty_vars = np.zeros((len(a), 9), dtype=int)\n",
    "print(a_compressed-1)\n",
    "empty_vars[np.arange(0, len(empty_vars)),a_compressed-1] = 1\n",
    "empty_vars[np.arange(0, len(empty_vars)),b_compressed-1] = -1\n",
    "print(empty_vars)\n",
    "print(a_compressed)\n",
    "print(b_compressed)\n",
    "print(len(a_compressed))\n",
    "print(empty_vars)\n",
    "print(len(a))\n",
    "print(list(a))\n",
    "print(list(b))\n",
    "print(len(empty_vars))\n",
    "# -1 is black, 1 king, 2 bishop, 3 rook"
   ]
  },
  {
   "cell_type": "code",
   "execution_count": 86,
   "id": "99160f5a-34c4-4d8b-8d5a-6c72dba9192f",
   "metadata": {},
   "outputs": [
    {
     "name": "stdout",
     "output_type": "stream",
     "text": [
      "[[0. 0.]\n",
      " [0. 0.]\n",
      " [0. 0.]\n",
      " [0. 0.]]\n",
      "(0, 0) (1, 1) (2, 0) (3, 1)\n",
      "[(0, 0), (1, 1), (2, 0), (3, 1)]\n",
      "[(0, 1, 2, 3), (0, 1, 0, 1)]\n",
      "<class 'tuple'>\n",
      "(0, 1, 0, 1)\n",
      "[[4. 0.]\n",
      " [0. 3.]\n",
      " [2. 0.]\n",
      " [0. 1.]]\n"
     ]
    }
   ],
   "source": [
    "import numpy as np\n",
    "a = np.zeros((4,2))\n",
    "print(a)\n",
    "vals = [4,3,2,1]\n",
    "pos = [(0,0),(1,1),(2,0),(3,1)]\n",
    "rows, cols = zip(*pos)\n",
    "print(*pos)\n",
    "print(pos)\n",
    "print(list(zip(*pos)))\n",
    "print(type(rows))\n",
    "print(cols)\n",
    "a[np.arange(0,4), list(cols)] = vals\n",
    "print(a)"
   ]
  },
  {
   "cell_type": "code",
   "execution_count": 87,
   "id": "63600a09-4d06-49cb-beec-ee888643c39b",
   "metadata": {},
   "outputs": [
    {
     "name": "stdout",
     "output_type": "stream",
     "text": [
      "11\n",
      "12\n",
      "13\n",
      "14\n",
      "15\n",
      "16\n",
      "17\n",
      "18\n",
      "19\n",
      "21\n",
      "22\n",
      "23\n",
      "24\n",
      "25\n",
      "26\n",
      "27\n",
      "28\n",
      "29\n",
      "31\n",
      "32\n",
      "33\n",
      "34\n",
      "35\n",
      "36\n",
      "37\n",
      "38\n",
      "39\n",
      "41\n",
      "42\n",
      "43\n",
      "44\n",
      "45\n",
      "46\n",
      "47\n",
      "48\n",
      "49\n",
      "51\n",
      "52\n",
      "53\n",
      "54\n",
      "55\n",
      "56\n",
      "57\n",
      "58\n",
      "59\n",
      "61\n",
      "62\n",
      "63\n",
      "64\n",
      "65\n",
      "66\n",
      "67\n",
      "68\n",
      "69\n",
      "71\n",
      "72\n",
      "73\n",
      "74\n",
      "75\n",
      "76\n",
      "77\n",
      "78\n",
      "79\n",
      "81\n",
      "82\n",
      "83\n",
      "84\n",
      "85\n",
      "86\n",
      "87\n",
      "88\n",
      "89\n",
      "91\n",
      "92\n",
      "93\n",
      "94\n",
      "95\n",
      "96\n",
      "97\n",
      "98\n",
      "99\n"
     ]
    }
   ],
   "source": [
    "for x in range(1,10):\n",
    "    for y in range(1,10):\n",
    "        print(x*10 +y)"
   ]
  },
  {
   "cell_type": "code",
   "execution_count": 88,
   "id": "5d96fdca-6a6c-42dd-8f78-5ac978d0c83a",
   "metadata": {},
   "outputs": [
    {
     "name": "stdout",
     "output_type": "stream",
     "text": [
      "3, 2.250e+08\n",
      "4, 2.025e+11\n",
      "5, 1.822e+14\n",
      "6, 1.640e+17\n",
      "7, 1.476e+20\n",
      "8, 1.329e+23\n",
      "9, 1.196e+26\n",
      "10, 1.076e+29\n",
      "11, 9.686e+31\n",
      "12, 8.717e+34\n",
      "13, 7.845e+37\n",
      "14, 7.061e+40\n",
      "15, 6.355e+43\n",
      "16, 5.719e+46\n",
      "17, 5.147e+49\n",
      "18, 4.633e+52\n",
      "19, 4.169e+55\n",
      "20, 3.752e+58\n",
      "21, 3.377e+61\n",
      "22, 3.039e+64\n",
      "23, 2.735e+67\n",
      "24, 2.462e+70\n",
      "25, 2.216e+73\n",
      "26, 1.994e+76\n",
      "27, 1.795e+79\n",
      "28, 1.615e+82\n",
      "29, 1.454e+85\n",
      "30, 1.308e+88\n",
      "31, 1.178e+91\n",
      "32, 1.060e+94\n",
      "33, 9.538e+96\n",
      "34, 8.584e+99\n",
      "35, 7.726e+102\n",
      "36, 6.953e+105\n",
      "37, 6.258e+108\n"
     ]
    }
   ],
   "source": [
    "y = 20**2*25**2\n",
    "for x in range(35):\n",
    "    y = y*30**2\n",
    "    print(x+3, end=\", \")\n",
    "    print(f\"{y:.3e}\")\n",
    "# 20**2*25**2*30**2*30**2*30**2*30**2*30**2*30**2*30**2*30**2"
   ]
  },
  {
   "cell_type": "code",
   "execution_count": 89,
   "id": "a9b74084-5c79-4359-ac21-24fabd82fd5f",
   "metadata": {},
   "outputs": [
    {
     "name": "stdout",
     "output_type": "stream",
     "text": [
      "[[1, 3, -1, 0, 0, 0, 0, 0, 0], [1, 0, -1, 3, 0, 0, 0, 0, 0], [1, 0, -1, 0, 3, 0, 0, 0, 0], [1, 0, -1, 0, 0, 3, 0, 0, 0], [1, 0, -1, 0, 0, 0, 3, 0, 0], [1, 0, -1, 0, 0, 0, 0, 3, 0], [1, 0, -1, 0, 0, 0, 0, 0, 3], [1, 3, 0, 0, 0, -1, 0, 0, 0], [1, 0, 3, 0, 0, -1, 0, 0, 0], [1, 0, 0, 3, 0, -1, 0, 0, 0], [1, 0, 0, 0, 3, -1, 0, 0, 0], [1, 0, 0, 0, 0, -1, 3, 0, 0], [1, 0, 0, 0, 0, -1, 0, 3, 0], [1, 0, 0, 0, 0, -1, 0, 0, 3], [1, 3, 0, 0, 0, 0, -1, 0, 0], [1, 0, 3, 0, 0, 0, -1, 0, 0], [1, 0, 0, 3, 0, 0, -1, 0, 0], [1, 0, 0, 0, 3, 0, -1, 0, 0], [1, 0, 0, 0, 0, 3, -1, 0, 0], [1, 0, 0, 0, 0, 0, -1, 3, 0], [1, 0, 0, 0, 0, 0, -1, 0, 3], [1, 3, 0, 0, 0, 0, 0, -1, 0], [1, 0, 3, 0, 0, 0, 0, -1, 0], [1, 0, 0, 3, 0, 0, 0, -1, 0], [1, 0, 0, 0, 3, 0, 0, -1, 0]]\n",
      "[[1, 0, -1, 0, 0, 0, 0, 0, 0], [1, 0, 0, 0, 0, -1, 0, 0, 0], [1, 0, 0, 0, 0, 0, -1, 0, 0], [1, 0, 0, 0, 0, 0, 0, -1, 0], [1, 0, 0, 0, 0, 0, 0, 0, -1], [0, 1, 0, 0, 0, 0, -1, 0, 0], [0, 1, 0, 0, 0, 0, 0, -1, 0], [0, 1, 0, 0, 0, 0, 0, 0, -1], [-1, 0, 1, 0, 0, 0, 0, 0, 0], [0, 0, 1, -1, 0, 0, 0, 0, 0], [0, 0, 1, 0, 0, 0, -1, 0, 0], [0, 0, 1, 0, 0, 0, 0, -1, 0], [0, 0, 1, 0, 0, 0, 0, 0, -1], [0, 0, -1, 1, 0, 0, 0, 0, 0], [0, 0, 0, 1, 0, -1, 0, 0, 0], [0, 0, 0, 1, 0, 0, 0, 0, -1], [-1, 0, 0, 0, 0, 1, 0, 0, 0], [0, 0, 0, -1, 0, 1, 0, 0, 0], [0, 0, 0, 0, 0, 1, -1, 0, 0], [-1, 0, 0, 0, 0, 0, 1, 0, 0], [0, -1, 0, 0, 0, 0, 1, 0, 0], [0, 0, -1, 0, 0, 0, 1, 0, 0], [0, 0, 0, 0, 0, -1, 1, 0, 0], [0, 0, 0, 0, 0, 0, 1, 0, -1], [-1, 0, 0, 0, 0, 0, 0, 1, 0], [0, -1, 0, 0, 0, 0, 0, 1, 0], [0, 0, -1, 0, 0, 0, 0, 1, 0], [-1, 0, 0, 0, 0, 0, 0, 0, 1], [0, -1, 0, 0, 0, 0, 0, 0, 1], [0, 0, -1, 0, 0, 0, 0, 0, 1], [0, 0, 0, -1, 0, 0, 0, 0, 1], [0, 0, 0, 0, 0, 0, -1, 0, 1]]\n"
     ]
    }
   ],
   "source": [
    "kings = empty_vars\n",
    "kings = np.repeat(kings,9, axis=0)\n",
    "b_diag = np.zeros((9,9), int)\n",
    "np.fill_diagonal(b_diag, 3)\n",
    "b_diag = np.tile(b_diag, (len(kings) // 9, 1))\n",
    "# print(len(b_diag))\n",
    "# print(kings[:5])\n",
    "# print(b_diag[:25])\n",
    "kings_b = kings+b_diag\n",
    "max_kings_b = np.amax(kings_b, axis=1) == 3\n",
    "min_kings_b = np.amin(kings_b, axis=1) == -1\n",
    "# if bishop variations didnt land on top of either king\n",
    "bool_mask = np.all([max_kings_b, min_kings_b], axis=0)\n",
    "kings_b = kings_b[bool_mask]\n",
    "print((kings_b[:25]).tolist())\n",
    "kings = empty_vars\n",
    "print(kings.tolist())"
   ]
  },
  {
   "cell_type": "code",
   "execution_count": 90,
   "id": "d9848cb6-0435-4071-b097-ad13c5cdeddb",
   "metadata": {},
   "outputs": [
    {
     "name": "stdout",
     "output_type": "stream",
     "text": [
      "2 72 72\n",
      "3 504 576\n",
      "4 3024 3600\n",
      "5 15120 18720\n",
      "6 60480 79200\n"
     ]
    }
   ],
   "source": [
    "# all vars of 3x3\n",
    "\"\"\"\n",
    "black king, white king\n",
    "black rook\n",
    "black bishop\n",
    "white rook\n",
    "white bishop\n",
    "white bishop, black bishop\n",
    "white bishop, black rook\n",
    "white rook, black bishop\n",
    "whtie rook, black rook\n",
    "black bishop, white rook, white bishop\n",
    "black rook,  white rook, white bishop\n",
    "white bishop\n",
    "white rook.\n",
    "black king, white king, white bishop, black rook\n",
    "\"\"\"\n",
    "y = 0\n",
    "for x in range(2, 7):\n",
    "    i = perm(9, x)\n",
    "    y += i\n",
    "    print(x, i, y)\n",
    "    "
   ]
  },
  {
   "cell_type": "code",
   "execution_count": 116,
   "id": "690c32b7-6ee1-4e13-9675-42f311493002",
   "metadata": {},
   "outputs": [
    {
     "name": "stdout",
     "output_type": "stream",
     "text": [
      "2 72 72\n",
      "3 504 576\n",
      "4 3024 3600\n",
      "5 15120 18720\n",
      "6 60480 79200\n"
     ]
    }
   ],
   "source": [
    "# branch of analysis for each piece in each stage of development\n",
    "y = 0\n",
    "board_len = 3\n",
    "for x in range(2, board_len * 2 + 1):\n",
    "    i = perm(board_len**2, x) # // 2\n",
    "    y += i\n",
    "    print(x, i, y) "
   ]
  },
  {
   "cell_type": "code",
   "execution_count": 92,
   "id": "d033689c-2521-49e1-9f96-7587743b4112",
   "metadata": {},
   "outputs": [
    {
     "name": "stdout",
     "output_type": "stream",
     "text": [
      "6.32e+12\n",
      "1.07e+12\n",
      "7.13e+14\n",
      "1.01e+19\n",
      "6578795480089760349618545303103200551842393275460554971061727068893434716380041016929404202276479727812582901159690746410388433112555128877540503538717848334736379211118883758504791863855349217733883410337484857180492768581890223934250296348560473934963172042117233932075699609980952865220310751442168002454118399736664110244403406232313689623843258483018285730442744590464258549995226817656326623833736025101485412494400992476717310862376609539946836752346776012010808997134033999570598036691753588554500686744552586815492155947618602416844395565743861676261603845381487989776465190727338124861521036736318713817908757059955288909419487173079791366423410100937688037866933876018571911669418653373077665428482883922052395756393791205671105754995519738869385189592298249682899435973193072350058146771768103450491852568448099356086029518811644165718504625988589545077197167206079701248580\n",
      "5.83e+08\n",
      "5.83e+08\n"
     ]
    }
   ],
   "source": [
    "print(f\"{6324598546800:.2e}\")\n",
    "print(f\"{1070070586396:.2e}\")\n",
    "print(f\"{713250450657044:.2e}\")\n",
    "print(f\"{10139684107326071010:.2e}\")\n",
    "print(comb(10139684107326071010, 50))\n",
    "print(f\"{582913200:.2e}\")\n",
    "print(f\"{582913200:.2e}\")"
   ]
  },
  {
   "cell_type": "code",
   "execution_count": 93,
   "id": "54c27507-fda2-42f3-ab26-2e0b43ec94f6",
   "metadata": {},
   "outputs": [
    {
     "name": "stdout",
     "output_type": "stream",
     "text": [
      "3.13093e+12\n"
     ]
    }
   ],
   "source": [
    "# find the logical progression of adding pieces and calculating total moves\n",
    "\n",
    "# reducing the number of permutations by deducing which ones are illegal earlier on\n",
    "# for just king to king, a king cannot be in the same place as another king\n",
    "# we could potentially have done this once and then multiplied it by four or the geometries by four\n",
    "# for rook and king, any variation with a check it must have been the rook that moved (the side thats checking moved)\n",
    "# is there an open file perpendicular to the direction the rook is checking the king that is not a tie or check as well\n",
    "print(f\"{factorial(64)//factorial(57):.5e}\")"
   ]
  },
  {
   "cell_type": "code",
   "execution_count": 94,
   "id": "f35cb8a6-474c-46b8-b2da-b3d50651b0d7",
   "metadata": {},
   "outputs": [
    {
     "name": "stdout",
     "output_type": "stream",
     "text": [
      "[[ 1  3 -1 ...  0  0  0]\n",
      " [ 1  0 -1 ...  0  0  0]\n",
      " [ 1  0 -1 ...  0  0  0]\n",
      " ...\n",
      " [ 0  0  0 ... -1  0  1]\n",
      " [ 0  0  0 ... -1  0  1]\n",
      " [ 0  0  0 ... -1  3  1]]\n",
      "CPU times: user 378 µs, sys: 0 ns, total: 378 µs\n",
      "Wall time: 322 µs\n"
     ]
    }
   ],
   "source": [
    "%%time\n",
    "# determine geometry in 3 squares top left top middle and middle middle as they are unique relationships, use geometry to create rest\n",
    "# 1 is tie, 2 check white 3 checkmate white, -1 no move, -2 black check -3 black checkmate\n",
    "kings_r = kings_b\n",
    "print(kings_r)"
   ]
  },
  {
   "cell_type": "code",
   "execution_count": 95,
   "id": "01ece33b-18fc-45ac-9660-eae65e8ca7fc",
   "metadata": {},
   "outputs": [
    {
     "name": "stdout",
     "output_type": "stream",
     "text": [
      "224\n",
      "[[1, 3, -1, 0, 0, 0, 0, 0, 0], [1, 0, -1, 3, 0, 0, 0, 0, 0], [1, 0, -1, 0, 3, 0, 0, 0, 0], [1, 0, -1, 0, 0, 3, 0, 0, 0], [1, 0, -1, 0, 0, 0, 3, 0, 0], [1, 0, -1, 0, 0, 0, 0, 3, 0], [1, 0, -1, 0, 0, 0, 0, 0, 3], [1, 3, 0, 0, 0, -1, 0, 0, 0], [1, 0, 3, 0, 0, -1, 0, 0, 0], [1, 0, 0, 3, 0, -1, 0, 0, 0], [1, 0, 0, 0, 3, -1, 0, 0, 0], [1, 0, 0, 0, 0, -1, 3, 0, 0], [1, 0, 0, 0, 0, -1, 0, 3, 0], [1, 0, 0, 0, 0, -1, 0, 0, 3], [1, 3, 0, 0, 0, 0, -1, 0, 0], [1, 0, 3, 0, 0, 0, -1, 0, 0], [1, 0, 0, 3, 0, 0, -1, 0, 0], [1, 0, 0, 0, 3, 0, -1, 0, 0], [1, 0, 0, 0, 0, 3, -1, 0, 0], [1, 0, 0, 0, 0, 0, -1, 3, 0], [1, 0, 0, 0, 0, 0, -1, 0, 3], [1, 3, 0, 0, 0, 0, 0, -1, 0], [1, 0, 3, 0, 0, 0, 0, -1, 0], [1, 0, 0, 3, 0, 0, 0, -1, 0], [1, 0, 0, 0, 3, 0, 0, -1, 0], [1, 0, 0, 0, 0, 3, 0, -1, 0], [1, 0, 0, 0, 0, 0, 3, -1, 0], [1, 0, 0, 0, 0, 0, 0, -1, 3], [1, 3, 0, 0, 0, 0, 0, 0, -1], [1, 0, 3, 0, 0, 0, 0, 0, -1], [1, 0, 0, 3, 0, 0, 0, 0, -1], [1, 0, 0, 0, 3, 0, 0, 0, -1], [1, 0, 0, 0, 0, 3, 0, 0, -1], [1, 0, 0, 0, 0, 0, 3, 0, -1], [1, 0, 0, 0, 0, 0, 0, 3, -1], [3, 1, 0, 0, 0, 0, -1, 0, 0], [0, 1, 3, 0, 0, 0, -1, 0, 0], [0, 1, 0, 3, 0, 0, -1, 0, 0], [0, 1, 0, 0, 3, 0, -1, 0, 0], [0, 1, 0, 0, 0, 3, -1, 0, 0], [0, 1, 0, 0, 0, 0, -1, 3, 0], [0, 1, 0, 0, 0, 0, -1, 0, 3], [3, 1, 0, 0, 0, 0, 0, -1, 0], [0, 1, 3, 0, 0, 0, 0, -1, 0], [0, 1, 0, 3, 0, 0, 0, -1, 0], [0, 1, 0, 0, 3, 0, 0, -1, 0], [0, 1, 0, 0, 0, 3, 0, -1, 0], [0, 1, 0, 0, 0, 0, 3, -1, 0], [0, 1, 0, 0, 0, 0, 0, -1, 3], [3, 1, 0, 0, 0, 0, 0, 0, -1], [0, 1, 3, 0, 0, 0, 0, 0, -1], [0, 1, 0, 3, 0, 0, 0, 0, -1], [0, 1, 0, 0, 3, 0, 0, 0, -1], [0, 1, 0, 0, 0, 3, 0, 0, -1], [0, 1, 0, 0, 0, 0, 3, 0, -1], [0, 1, 0, 0, 0, 0, 0, 3, -1], [-1, 3, 1, 0, 0, 0, 0, 0, 0], [-1, 0, 1, 3, 0, 0, 0, 0, 0], [-1, 0, 1, 0, 3, 0, 0, 0, 0], [-1, 0, 1, 0, 0, 3, 0, 0, 0], [-1, 0, 1, 0, 0, 0, 3, 0, 0], [-1, 0, 1, 0, 0, 0, 0, 3, 0], [-1, 0, 1, 0, 0, 0, 0, 0, 3], [3, 0, 1, -1, 0, 0, 0, 0, 0], [0, 3, 1, -1, 0, 0, 0, 0, 0], [0, 0, 1, -1, 3, 0, 0, 0, 0], [0, 0, 1, -1, 0, 3, 0, 0, 0], [0, 0, 1, -1, 0, 0, 3, 0, 0], [0, 0, 1, -1, 0, 0, 0, 3, 0], [0, 0, 1, -1, 0, 0, 0, 0, 3], [3, 0, 1, 0, 0, 0, -1, 0, 0], [0, 3, 1, 0, 0, 0, -1, 0, 0], [0, 0, 1, 3, 0, 0, -1, 0, 0], [0, 0, 1, 0, 3, 0, -1, 0, 0], [0, 0, 1, 0, 0, 3, -1, 0, 0], [0, 0, 1, 0, 0, 0, -1, 3, 0], [0, 0, 1, 0, 0, 0, -1, 0, 3], [3, 0, 1, 0, 0, 0, 0, -1, 0], [0, 3, 1, 0, 0, 0, 0, -1, 0], [0, 0, 1, 3, 0, 0, 0, -1, 0], [0, 0, 1, 0, 3, 0, 0, -1, 0], [0, 0, 1, 0, 0, 3, 0, -1, 0], [0, 0, 1, 0, 0, 0, 3, -1, 0], [0, 0, 1, 0, 0, 0, 0, -1, 3], [3, 0, 1, 0, 0, 0, 0, 0, -1], [0, 3, 1, 0, 0, 0, 0, 0, -1], [0, 0, 1, 3, 0, 0, 0, 0, -1], [0, 0, 1, 0, 3, 0, 0, 0, -1], [0, 0, 1, 0, 0, 3, 0, 0, -1], [0, 0, 1, 0, 0, 0, 3, 0, -1], [0, 0, 1, 0, 0, 0, 0, 3, -1], [3, 0, -1, 1, 0, 0, 0, 0, 0], [0, 3, -1, 1, 0, 0, 0, 0, 0], [0, 0, -1, 1, 3, 0, 0, 0, 0], [0, 0, -1, 1, 0, 3, 0, 0, 0], [0, 0, -1, 1, 0, 0, 3, 0, 0], [0, 0, -1, 1, 0, 0, 0, 3, 0], [0, 0, -1, 1, 0, 0, 0, 0, 3], [3, 0, 0, 1, 0, -1, 0, 0, 0], [0, 3, 0, 1, 0, -1, 0, 0, 0], [0, 0, 3, 1, 0, -1, 0, 0, 0], [0, 0, 0, 1, 3, -1, 0, 0, 0], [0, 0, 0, 1, 0, -1, 3, 0, 0], [0, 0, 0, 1, 0, -1, 0, 3, 0], [0, 0, 0, 1, 0, -1, 0, 0, 3], [3, 0, 0, 1, 0, 0, 0, 0, -1], [0, 3, 0, 1, 0, 0, 0, 0, -1], [0, 0, 3, 1, 0, 0, 0, 0, -1], [0, 0, 0, 1, 3, 0, 0, 0, -1], [0, 0, 0, 1, 0, 3, 0, 0, -1], [0, 0, 0, 1, 0, 0, 3, 0, -1], [0, 0, 0, 1, 0, 0, 0, 3, -1], [-1, 3, 0, 0, 0, 1, 0, 0, 0], [-1, 0, 3, 0, 0, 1, 0, 0, 0], [-1, 0, 0, 3, 0, 1, 0, 0, 0], [-1, 0, 0, 0, 3, 1, 0, 0, 0], [-1, 0, 0, 0, 0, 1, 3, 0, 0], [-1, 0, 0, 0, 0, 1, 0, 3, 0], [-1, 0, 0, 0, 0, 1, 0, 0, 3], [3, 0, 0, -1, 0, 1, 0, 0, 0], [0, 3, 0, -1, 0, 1, 0, 0, 0], [0, 0, 3, -1, 0, 1, 0, 0, 0], [0, 0, 0, -1, 3, 1, 0, 0, 0], [0, 0, 0, -1, 0, 1, 3, 0, 0], [0, 0, 0, -1, 0, 1, 0, 3, 0], [0, 0, 0, -1, 0, 1, 0, 0, 3], [3, 0, 0, 0, 0, 1, -1, 0, 0], [0, 3, 0, 0, 0, 1, -1, 0, 0], [0, 0, 3, 0, 0, 1, -1, 0, 0], [0, 0, 0, 3, 0, 1, -1, 0, 0], [0, 0, 0, 0, 3, 1, -1, 0, 0], [0, 0, 0, 0, 0, 1, -1, 3, 0], [0, 0, 0, 0, 0, 1, -1, 0, 3], [-1, 3, 0, 0, 0, 0, 1, 0, 0], [-1, 0, 3, 0, 0, 0, 1, 0, 0], [-1, 0, 0, 3, 0, 0, 1, 0, 0], [-1, 0, 0, 0, 3, 0, 1, 0, 0], [-1, 0, 0, 0, 0, 3, 1, 0, 0], [-1, 0, 0, 0, 0, 0, 1, 3, 0], [-1, 0, 0, 0, 0, 0, 1, 0, 3], [3, -1, 0, 0, 0, 0, 1, 0, 0], [0, -1, 3, 0, 0, 0, 1, 0, 0], [0, -1, 0, 3, 0, 0, 1, 0, 0], [0, -1, 0, 0, 3, 0, 1, 0, 0], [0, -1, 0, 0, 0, 3, 1, 0, 0], [0, -1, 0, 0, 0, 0, 1, 3, 0], [0, -1, 0, 0, 0, 0, 1, 0, 3], [3, 0, -1, 0, 0, 0, 1, 0, 0], [0, 3, -1, 0, 0, 0, 1, 0, 0], [0, 0, -1, 3, 0, 0, 1, 0, 0], [0, 0, -1, 0, 3, 0, 1, 0, 0], [0, 0, -1, 0, 0, 3, 1, 0, 0], [0, 0, -1, 0, 0, 0, 1, 3, 0], [0, 0, -1, 0, 0, 0, 1, 0, 3], [3, 0, 0, 0, 0, -1, 1, 0, 0], [0, 3, 0, 0, 0, -1, 1, 0, 0], [0, 0, 3, 0, 0, -1, 1, 0, 0], [0, 0, 0, 3, 0, -1, 1, 0, 0], [0, 0, 0, 0, 3, -1, 1, 0, 0], [0, 0, 0, 0, 0, -1, 1, 3, 0], [0, 0, 0, 0, 0, -1, 1, 0, 3], [3, 0, 0, 0, 0, 0, 1, 0, -1], [0, 3, 0, 0, 0, 0, 1, 0, -1], [0, 0, 3, 0, 0, 0, 1, 0, -1], [0, 0, 0, 3, 0, 0, 1, 0, -1], [0, 0, 0, 0, 3, 0, 1, 0, -1], [0, 0, 0, 0, 0, 3, 1, 0, -1], [0, 0, 0, 0, 0, 0, 1, 3, -1], [-1, 3, 0, 0, 0, 0, 0, 1, 0], [-1, 0, 3, 0, 0, 0, 0, 1, 0], [-1, 0, 0, 3, 0, 0, 0, 1, 0], [-1, 0, 0, 0, 3, 0, 0, 1, 0], [-1, 0, 0, 0, 0, 3, 0, 1, 0], [-1, 0, 0, 0, 0, 0, 3, 1, 0], [-1, 0, 0, 0, 0, 0, 0, 1, 3], [3, -1, 0, 0, 0, 0, 0, 1, 0], [0, -1, 3, 0, 0, 0, 0, 1, 0], [0, -1, 0, 3, 0, 0, 0, 1, 0], [0, -1, 0, 0, 3, 0, 0, 1, 0], [0, -1, 0, 0, 0, 3, 0, 1, 0], [0, -1, 0, 0, 0, 0, 3, 1, 0], [0, -1, 0, 0, 0, 0, 0, 1, 3], [3, 0, -1, 0, 0, 0, 0, 1, 0], [0, 3, -1, 0, 0, 0, 0, 1, 0], [0, 0, -1, 3, 0, 0, 0, 1, 0], [0, 0, -1, 0, 3, 0, 0, 1, 0], [0, 0, -1, 0, 0, 3, 0, 1, 0], [0, 0, -1, 0, 0, 0, 3, 1, 0], [0, 0, -1, 0, 0, 0, 0, 1, 3], [-1, 3, 0, 0, 0, 0, 0, 0, 1], [-1, 0, 3, 0, 0, 0, 0, 0, 1], [-1, 0, 0, 3, 0, 0, 0, 0, 1], [-1, 0, 0, 0, 3, 0, 0, 0, 1], [-1, 0, 0, 0, 0, 3, 0, 0, 1], [-1, 0, 0, 0, 0, 0, 3, 0, 1], [-1, 0, 0, 0, 0, 0, 0, 3, 1], [3, -1, 0, 0, 0, 0, 0, 0, 1], [0, -1, 3, 0, 0, 0, 0, 0, 1], [0, -1, 0, 3, 0, 0, 0, 0, 1], [0, -1, 0, 0, 3, 0, 0, 0, 1], [0, -1, 0, 0, 0, 3, 0, 0, 1], [0, -1, 0, 0, 0, 0, 3, 0, 1], [0, -1, 0, 0, 0, 0, 0, 3, 1], [3, 0, -1, 0, 0, 0, 0, 0, 1], [0, 3, -1, 0, 0, 0, 0, 0, 1], [0, 0, -1, 3, 0, 0, 0, 0, 1], [0, 0, -1, 0, 3, 0, 0, 0, 1], [0, 0, -1, 0, 0, 3, 0, 0, 1], [0, 0, -1, 0, 0, 0, 3, 0, 1], [0, 0, -1, 0, 0, 0, 0, 3, 1], [3, 0, 0, -1, 0, 0, 0, 0, 1], [0, 3, 0, -1, 0, 0, 0, 0, 1], [0, 0, 3, -1, 0, 0, 0, 0, 1], [0, 0, 0, -1, 3, 0, 0, 0, 1], [0, 0, 0, -1, 0, 3, 0, 0, 1], [0, 0, 0, -1, 0, 0, 3, 0, 1], [0, 0, 0, -1, 0, 0, 0, 3, 1], [3, 0, 0, 0, 0, 0, -1, 0, 1], [0, 3, 0, 0, 0, 0, -1, 0, 1], [0, 0, 3, 0, 0, 0, -1, 0, 1], [0, 0, 0, 3, 0, 0, -1, 0, 1], [0, 0, 0, 0, 3, 0, -1, 0, 1], [0, 0, 0, 0, 0, 3, -1, 0, 1], [0, 0, 0, 0, 0, 0, -1, 3, 1]]\n"
     ]
    }
   ],
   "source": [
    "# label variations as tie check for black check for white chekmate for black checkmate for white\n",
    "# 1 is tie, 2 check white 3 checkmate white, -1 no move, -2 black check -3 black checkmate\n",
    "print(len(kings_r))\n",
    "print((kings_r).tolist())"
   ]
  },
  {
   "cell_type": "code",
   "execution_count": 96,
   "id": "085e545c-7007-4df4-8710-1707e4e6eddc",
   "metadata": {},
   "outputs": [
    {
     "data": {
      "text/plain": [
       "32"
      ]
     },
     "execution_count": 96,
     "metadata": {},
     "output_type": "execute_result"
    }
   ],
   "source": [
    "# rook being in center is automatic stalemate\n",
    "len(kings)"
   ]
  },
  {
   "cell_type": "code",
   "execution_count": 97,
   "id": "3bf60947-32c5-4c20-8b24-89a37596d26e",
   "metadata": {},
   "outputs": [
    {
     "name": "stdout",
     "output_type": "stream",
     "text": [
      "32\n",
      "224\n"
     ]
    }
   ],
   "source": [
    "print(len(kings))\n",
    "print(len(kings_r))"
   ]
  },
  {
   "cell_type": "code",
   "execution_count": 98,
   "id": "1ca62405-0272-4a09-9b59-bd702217cfcd",
   "metadata": {},
   "outputs": [
    {
     "data": {
      "text/plain": [
       "2500.0"
      ]
     },
     "execution_count": 98,
     "metadata": {},
     "output_type": "execute_result"
    }
   ],
   "source": [
    "40000/16"
   ]
  },
  {
   "cell_type": "code",
   "execution_count": 99,
   "id": "ace0de9d-2b0b-41dc-a0c5-31e98dd5270e",
   "metadata": {},
   "outputs": [
    {
     "data": {
      "text/plain": [
       "504"
      ]
     },
     "execution_count": 99,
     "metadata": {},
     "output_type": "execute_result"
    }
   ],
   "source": [
    "72*7"
   ]
  },
  {
   "cell_type": "code",
   "execution_count": 100,
   "id": "590179d6-8402-462c-aeeb-13da13a3c036",
   "metadata": {},
   "outputs": [
    {
     "name": "stdout",
     "output_type": "stream",
     "text": [
      "('WK', 'BK')\n",
      "('WK', 'BK', 'WR')\n",
      "('WK', 'BK', 'WB')\n",
      "('WK', 'BK', 'BR')\n",
      "('WK', 'BK', 'BB')\n",
      "('WK', 'BK', 'WR', 'WB')\n",
      "('WK', 'BK', 'WR', 'BR')\n",
      "('WK', 'BK', 'WR', 'BB')\n",
      "('WK', 'BK', 'WB', 'BR')\n",
      "('WK', 'BK', 'WB', 'BB')\n",
      "('WK', 'BK', 'BR', 'BB')\n",
      "('WK', 'BK', 'WR', 'WB', 'BR')\n",
      "('WK', 'BK', 'WR', 'WB', 'BB')\n",
      "('WK', 'BK', 'WR', 'BR', 'BB')\n",
      "('WK', 'BK', 'WB', 'BR', 'BB')\n",
      "('WK', 'BK', 'WR', 'WB', 'BR', 'BB')\n"
     ]
    }
   ],
   "source": [
    "pieces = [\"WK\", \"BK\"]\n",
    "all_pieces = ['WR','WB','BR','BB']\n",
    "for addable_pieces in range(len(all_pieces) + 1):\n",
    "    for add_piece in list(combinations(all_pieces, addable_pieces)):\n",
    "        total_pieces = tuple(pieces) + add_piece\n",
    "        print(total_pieces)"
   ]
  },
  {
   "cell_type": "code",
   "execution_count": 101,
   "id": "b01ab5de-77c4-4ed0-ac9e-a0a693384f13",
   "metadata": {},
   "outputs": [
    {
     "name": "stdout",
     "output_type": "stream",
     "text": [
      "[(1, 2), (1, 3), (2, 3)]\n",
      "<class 'tuple'>\n"
     ]
    }
   ],
   "source": [
    "print(x := list(combinations([1,2,3],2)))\n",
    "print(type(x[0]))"
   ]
  },
  {
   "cell_type": "code",
   "execution_count": 102,
   "id": "5b722f51-053b-4d47-980f-69da41c40586",
   "metadata": {},
   "outputs": [
    {
     "name": "stdout",
     "output_type": "stream",
     "text": [
      "3 [1, 4, 6, 4, 1] 16 5\n",
      "4 [1, 6, 15, 20, 15, 6, 1] 64 7\n",
      "5 [1, 8, 28, 56, 70, 56, 28, 8, 1] 256 9\n",
      "6 [1, 10, 45, 120, 210, 252, 210, 120, 45, 10, 1] 1024 11\n",
      "7 [1, 12, 66, 220, 495, 792, 924, 792, 495, 220, 66, 12, 1] 4096 13\n",
      "8 [1, 14, 91, 364, 1001, 2002, 3003, 3432, 3003, 2002, 1001, 364, 91, 14, 1] 16384 15\n"
     ]
    }
   ],
   "source": [
    "for board_dim in range(3,9):\n",
    "    piece_vars = []\n",
    "    pieces_total = (board_dim*2) - 2\n",
    "    for k in range(pieces_total + 1):\n",
    "        vars_append = comb(pieces_total, k)\n",
    "        if k%2 == 0 and 0<k<pieces_total:\n",
    "            # vars_append -= comb(pieces_total//2, k//2) \n",
    "            ...\n",
    "        piece_vars.append(vars_append)\n",
    "    print(board_dim, piece_vars, sum(piece_vars), len(piece_vars))"
   ]
  },
  {
   "cell_type": "code",
   "execution_count": 115,
   "id": "486cc31f-a3c6-4fb9-8c1c-3bfc3b7b3cb3",
   "metadata": {},
   "outputs": [
    {
     "name": "stdout",
     "output_type": "stream",
     "text": [
      "3 [1, 2, 4, 2, 1] 10 5\n",
      "4 [1, 3, 9, 10, 9, 3, 1] 36 7\n",
      "5 [1, 4, 16, 28, 38, 28, 16, 4, 1] 136 9\n",
      "6 [1, 5, 25, 60, 110, 126, 110, 60, 25, 5, 1] 528 11\n",
      "7 [1, 6, 36, 110, 255, 396, 472, 396, 255, 110, 36, 6, 1] 2080 13\n"
     ]
    }
   ],
   "source": [
    "# number of piece layouts of only one color with opposite flipping piece colors\n",
    "# 3x3 board starts with piece layout king king which is 1, then king rook, king bishop = 2...\n",
    "for board_dim in range(3,8):\n",
    "    piece_vars = []\n",
    "    pieces_total = (board_dim*2) - 2\n",
    "    for k in range(pieces_total + 1):\n",
    "        vars_append = comb(pieces_total, k)\n",
    "        if k%2 == 0 and 0<k<pieces_total:\n",
    "            added = comb(pieces_total//2, k//2) \n",
    "        else:\n",
    "            added = 0\n",
    "        if vars_append > 1:\n",
    "            vars_append = ((vars_append-added) // 2) + added\n",
    "        piece_vars.append(vars_append)\n",
    "    print(board_dim, piece_vars, sum(piece_vars), len(piece_vars))"
   ]
  },
  {
   "cell_type": "code",
   "execution_count": 104,
   "id": "48e900bf-8910-4631-a107-05a09513cfd2",
   "metadata": {},
   "outputs": [
    {
     "name": "stdout",
     "output_type": "stream",
     "text": [
      "hi\n"
     ]
    }
   ],
   "source": [
    "# find the piece node tree and traverse it in the best way to accumulate all lists of positions that are valid\n",
    "# take the list organized by which pieces are on the board in each node and then start creating sequences\n",
    "class Node():\n",
    "    def __init__(self, positions, pieces, layer):\n",
    "        self.positions = positions\n",
    "        self.pieces = pieces\n",
    "        self.layer = layer\n",
    "# create the data and then place into node object\n",
    "x = Node(\"hi\", \"1\", '2')\n",
    "print(x.positions)"
   ]
  },
  {
   "cell_type": "code",
   "execution_count": 122,
   "id": "27e3c1d8-9302-4bf4-86a3-5056076874be",
   "metadata": {},
   "outputs": [
    {
     "data": {
      "text/plain": [
       "array([[0., 0., 0., 0., 0., 0., 0., 0., 0.],\n",
       "       [0., 0., 0., 0., 0., 0., 0., 0., 0.],\n",
       "       [0., 0., 0., 0., 0., 0., 0., 0., 0.],\n",
       "       [0., 0., 0., 0., 0., 0., 0., 0., 0.],\n",
       "       [0., 0., 0., 0., 0., 0., 0., 0., 0.],\n",
       "       [0., 0., 0., 0., 0., 0., 0., 0., 0.],\n",
       "       [0., 0., 0., 0., 0., 0., 0., 0., 0.],\n",
       "       [0., 0., 0., 0., 0., 0., 0., 0., 0.],\n",
       "       [0., 0., 0., 0., 0., 0., 0., 0., 0.],\n",
       "       [0., 0., 0., 0., 0., 0., 0., 0., 0.]])"
      ]
     },
     "execution_count": 122,
     "metadata": {},
     "output_type": "execute_result"
    }
   ],
   "source": [
    "# create data for black king white king\n",
    "np.zeros((10,9))"
   ]
  },
  {
   "cell_type": "code",
   "execution_count": null,
   "id": "26cefb2c-57dc-4452-b5dd-1022eb5cea8a",
   "metadata": {},
   "outputs": [],
   "source": []
  }
 ],
 "metadata": {
  "kernelspec": {
   "display_name": "Python 3 (ipykernel)",
   "language": "python",
   "name": "python3"
  },
  "language_info": {
   "codemirror_mode": {
    "name": "ipython",
    "version": 3
   },
   "file_extension": ".py",
   "mimetype": "text/x-python",
   "name": "python",
   "nbconvert_exporter": "python",
   "pygments_lexer": "ipython3",
   "version": "3.10.6"
  }
 },
 "nbformat": 4,
 "nbformat_minor": 5
}
